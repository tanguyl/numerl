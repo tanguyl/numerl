{
 "cells": [
  {
   "attachments": {},
   "cell_type": "markdown",
   "metadata": {},
   "source": [
    "#### Analysis of LAPACKE functions"
   ]
  },
  {
   "cell_type": "code",
   "execution_count": 7,
   "metadata": {},
   "outputs": [
    {
     "name": "stdout",
     "output_type": "stream",
     "text": [
      "0      False\n",
      "1      False\n",
      "2      False\n",
      "3      False\n",
      "4      False\n",
      "       ...  \n",
      "159    False\n",
      "160    False\n",
      "161    False\n",
      "162    False\n",
      "163    False\n",
      "Name: fct_name, Length: 164, dtype: bool\n",
      "Empty DataFrame\n",
      "Columns: [fct_name, fct_type]\n",
      "Index: []\n"
     ]
    }
   ],
   "source": [
    "import pandas as pd\n",
    "\n",
    "import re\n",
    "\n",
    "def extract_function_names(header_file):\n",
    "    with open(header_file, 'r') as file:\n",
    "        content = file.read()\n",
    "\n",
    "    pattern = r'\\b\\w+\\s+(\\w+)\\s*\\('\n",
    "    function_names = re.findall(pattern, content)\n",
    "\n",
    "    return function_names\n",
    "\n",
    "names = pd.DataFrame(extract_function_names('cblas.h'), columns=[\"fct_name\"])"
   ]
  },
  {
   "cell_type": "code",
   "execution_count": 26,
   "metadata": {},
   "outputs": [
    {
     "name": "stdout",
     "output_type": "stream",
     "text": [
      "Empty DataFrame\n",
      "Columns: [types]\n",
      "Index: []\n",
      "          fct_name return_type  e_name  arg_pos      arg_type arg_name type\n",
      "0     cblas_sdsdot       float  sdsdot        0     const int        N  NaN\n",
      "1     cblas_sdsdot       float  sdsdot        1   const float    alpha  NaN\n",
      "2     cblas_sdsdot       float  sdsdot        2  const float*        X  NaN\n",
      "3     cblas_sdsdot       float  sdsdot        3     const int     incX  NaN\n",
      "4     cblas_sdsdot       float  sdsdot        4  const float*        Y  NaN\n",
      "...            ...         ...     ...      ...           ...      ...  ...\n",
      "1230  cblas_zher2k        void  zher2k        8   const void*        B  NaN\n",
      "1231  cblas_zher2k        void  zher2k        9     const int      ldb  NaN\n",
      "1232  cblas_zher2k        void  zher2k       10  const double     beta  NaN\n",
      "1233  cblas_zher2k        void  zher2k       11         void*        C  NaN\n",
      "1234  cblas_zher2k        void  zher2k       12     const int      ldc  NaN\n",
      "\n",
      "[1235 rows x 7 columns]\n",
      "142\n"
     ]
    }
   ],
   "source": [
    "import re\n",
    "import pandas as pd\n",
    "\n",
    "### Generated using CHATGPT\n",
    "\n",
    "def extract_function_info(file_path):\n",
    "    function_info = []\n",
    "    pattern =  r\"(\\w+\\s+)(\\w+)\\s*\\((.*?)\\);\"\n",
    "\n",
    "    with open(file_path, 'r') as file:\n",
    "        content = file.read()\n",
    "\n",
    "        matches = re.findall(pattern, content, re.DOTALL)\n",
    "        for match in matches:\n",
    "            return_type = match[0].strip()\n",
    "\n",
    "            function_name = match[1]\n",
    "            if ~ (names[\"fct_name\"] == function_name).any():\n",
    "                continue\n",
    "            \n",
    "            arguments = match[2].split(',')\n",
    "\n",
    "            for i, arg in enumerate(arguments):\n",
    "                arg = arg.strip()\n",
    "                arg_parts = arg.rsplit(' ', 1)\n",
    "                arg_type = arg_parts[0].strip()\n",
    "                arg_name = arg_parts[1].strip()\n",
    "\n",
    "                if '*' in arg_name:\n",
    "                    arg_name = arg_name.replace('*','')\n",
    "                    arg_type = arg_type + '*'\n",
    "                \n",
    "                function_info.append({\n",
    "                    \"fct_name\": function_name,\n",
    "                    \"return_type\": return_type,\n",
    "                    \"e_name\": function_name.split(\"_\")[1],\n",
    "                    \"arg_pos\": i,\n",
    "                    \"arg_type\": arg_type,\n",
    "                    \"arg_name\": arg_name\n",
    "                })\n",
    "\n",
    "    return pd.DataFrame(function_info)\n",
    "\n",
    "# Usage example\n",
    "db = extract_function_info('cblas.h')\n",
    "print(len(db[\"fct_name\"].unique()))"
   ]
  },
  {
   "attachments": {},
   "cell_type": "markdown",
   "metadata": {},
   "source": [
    "### Comparing functions invented/expected"
   ]
  },
  {
   "cell_type": "code",
   "execution_count": 64,
   "metadata": {},
   "outputs": [
    {
     "name": "stdout",
     "output_type": "stream",
     "text": [
      "Missing:0\n",
      "Added\n",
      "Empty DataFrame\n",
      "Columns: [fct_name, arg_pos, arg_type, arg_name]\n",
      "Index: []\n"
     ]
    }
   ],
   "source": [
    "\n",
    "missing = names[~names[\"fct_name\"].isin(db[\"fct_name\"].unique())]\n",
    "print(f\"Missing:{len(missing['fct_name'].unique())}\")\n",
    "\n",
    "print(\"Added\")\n",
    "print(db[~db[\"fct_name\"].isin(names[\"fct_name\"])])"
   ]
  },
  {
   "cell_type": "code",
   "execution_count": 65,
   "metadata": {},
   "outputs": [],
   "source": [
    "names = names[~names[\"fct_name\"].isin(missing[\"fct_name\"])]\n",
    "names.to_csv(\"blas_names.csv\")"
   ]
  },
  {
   "attachments": {},
   "cell_type": "markdown",
   "metadata": {},
   "source": [
    "### Obtained data types"
   ]
  },
  {
   "cell_type": "code",
   "execution_count": 73,
   "metadata": {},
   "outputs": [
    {
     "name": "stdout",
     "output_type": "stream",
     "text": [
      "['const int' 'const float' 'const float*' 'const double*' 'const void*'\n",
      " 'void*' 'float*' 'double*' 'const double' 'const enum CBLAS_ORDER'\n",
      " 'const enum CBLAS_TRANSPOSE' 'const enum CBLAS_UPLO'\n",
      " 'const enum CBLAS_DIAG' 'const enum CBLAS_SIDE']\n"
     ]
    }
   ],
   "source": [
    "data_types = db[\"arg_type\"].unique()\n",
    "print(data_types)"
   ]
  },
  {
   "cell_type": "code",
   "execution_count": 74,
   "metadata": {},
   "outputs": [
    {
     "name": "stdout",
     "output_type": "stream",
     "text": [
      "const int\n",
      "{'names': array(['N', 'incX', 'incY', 'M', 'lda', 'KL', 'KU', 'K', 'ldb', 'ldc'],\n",
      "      dtype=object), 'pos': array([ 0,  3,  5,  2,  4,  6,  8, 11, 10, 13,  7,  9,  1, 12]), 'ocs': 2470}\n",
      "const float\n",
      "{'names': array(['alpha', 'b2', 'c', 's', 'beta'], dtype=object), 'pos': array([ 1,  3,  5,  6,  4,  9, 11,  8,  7, 10]), 'ocs': 185}\n",
      "const float*\n",
      "{'names': array(['X', 'Y', 'P', 'A', 'Ap', 'B'], dtype=object), 'pos': array([2, 4, 1, 3, 5, 7, 9, 6, 8]), 'ocs': 225}\n",
      "const double*\n",
      "{'names': array(['X', 'Y', 'P', 'A', 'Ap', 'B'], dtype=object), 'pos': array([1, 3, 2, 5, 7, 9, 6, 4, 8]), 'ocs': 205}\n",
      "const void*\n",
      "{'names': array(['X', 'Y', 'alpha', 'A', 'beta', 'Ap', 'B'], dtype=object), 'pos': array([ 1,  3,  2,  4,  5,  7,  9,  6, 11,  8, 10]), 'ocs': 780}\n",
      "void*\n",
      "{'names': array(['dotu', 'dotc', 'X', 'Y', 'A', 'Ap', 'C', 'B'], dtype=object), 'pos': array([ 5,  1,  3,  4,  2, 10, 12,  7,  8,  6,  9, 11]), 'ocs': 340}\n",
      "float*\n",
      "{'names': array(['X', 'Y', 'a', 'b', 'c', 's', 'd1', 'd2', 'b1', 'P', 'A', 'Ap',\n",
      "       'C', 'B'], dtype=object), 'pos': array([ 1,  3,  4,  0,  2, 10, 12,  7,  8,  6,  9, 11]), 'ocs': 195}\n",
      "double*\n",
      "{'names': array(['X', 'Y', 'a', 'b', 'c', 's', 'd1', 'd2', 'b1', 'P', 'A', 'Ap',\n",
      "       'C', 'B'], dtype=object), 'pos': array([ 1,  3,  4,  0,  2, 10, 12,  7,  8,  6,  9, 11]), 'ocs': 195}\n",
      "const double\n",
      "{'names': array(['alpha', 'b2', 'c', 's', 'beta'], dtype=object), 'pos': array([ 1,  3,  5,  6,  4,  9, 11,  8,  7, 10]), 'ocs': 180}\n",
      "const enum CBLAS_ORDER\n",
      "{'names': array(['order', 'Order'], dtype=object), 'pos': array([0]), 'ocs': 480}\n",
      "const enum CBLAS_TRANSPOSE\n",
      "{'names': array(['TransA', 'TransB', 'Trans'], dtype=object), 'pos': array([1, 2, 3]), 'ocs': 300}\n",
      "const enum CBLAS_UPLO\n",
      "{'names': array(['Uplo'], dtype=object), 'pos': array([1, 2]), 'ocs': 390}\n",
      "const enum CBLAS_DIAG\n",
      "{'names': array(['Diag'], dtype=object), 'pos': array([3, 4]), 'ocs': 160}\n",
      "const enum CBLAS_SIDE\n",
      "{'names': array(['Side'], dtype=object), 'pos': array([1]), 'ocs': 70}\n"
     ]
    }
   ],
   "source": [
    "for dt in data_types:\n",
    "    print(dt)\n",
    "    dt_df = db[db[\"arg_type\"]==dt]\n",
    "    data = {\n",
    "        \"names\": dt_df[\"arg_name\"].unique(),\n",
    "        \"pos\": dt_df[\"arg_pos\"].unique(),\n",
    "        \"ocs\": dt_df.size\n",
    "    }\n",
    "    print(data)"
   ]
  }
 ],
 "metadata": {
  "kernelspec": {
   "display_name": "Python 3",
   "language": "python",
   "name": "python3"
  },
  "language_info": {
   "codemirror_mode": {
    "name": "ipython",
    "version": 3
   },
   "file_extension": ".py",
   "mimetype": "text/x-python",
   "name": "python",
   "nbconvert_exporter": "python",
   "pygments_lexer": "ipython3",
   "version": "3.10.6"
  },
  "orig_nbformat": 4
 },
 "nbformat": 4,
 "nbformat_minor": 2
}
